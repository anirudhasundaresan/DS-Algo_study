{
 "cells": [
  {
   "cell_type": "markdown",
   "metadata": {},
   "source": [
    "Reference study material: http://stackabuse.com/python-linked-lists/\n",
    "\n",
    "Single linked lists: \n",
    "\n",
    "Single list elements are called nodes. \n",
    "A node needs a class because it has 2 variables, data and next (pointer to next node). \n",
    "A linked list itself also needs a class which has methods like deletion, insertions and such. \n",
    "So, while working with linked lists, we define the node class first and then we define the linked list class.\n",
    "- Node class name: ListNode\n",
    "- LL class name: SingleLinkedList\n",
    "\n",
    "Note: In Python, all member functions of the class will have a 'self' argument in the beginning. "
   ]
  },
  {
   "cell_type": "markdown",
   "metadata": {},
   "source": [
    "Properties of ListNode class (node):\n",
    "__init__(): initialize node with data\n",
    "self.data: value stored in the node\n",
    "self.next: reference pointer to next node\n",
    "has_value(): compare a value with the node value"
   ]
  },
  {
   "cell_type": "code",
   "execution_count": 58,
   "metadata": {
    "collapsed": true
   },
   "outputs": [],
   "source": [
    "# for creation of a node class\n",
    "class ListNode:\n",
    "    def __init__(self, data): # constructor called like for eg: ListNode(8)\n",
    "        self.data = data\n",
    "        self.next = None # not null...this one makes this newly created node to point to nothing..yet.\n",
    "        return # imp! has return \n",
    "    def has_value(self, value): # for comparing data in node to value being passed to this as for eg: ListNode.has_value(8)\n",
    "        if self.data == value:\n",
    "            return True\n",
    "        else:\n",
    "            return False\n",
    "# Thus, node class created!\n",
    "# ListNode(8)\n",
    "# Can be strings also, ListNode('Berlin')\n",
    "# ListNode(25.3)\n",
    "# These represent 3 virgin nodes, all of them pointing to None, for now. "
   ]
  },
  {
   "cell_type": "markdown",
   "metadata": {},
   "source": [
    "Properties of SingleLinkedList class (for the LL):\n",
    "- to manage the list nodes that were created with the previous class\n",
    "__init__(): Initiate an object of the LL class\n",
    "self.head: Represent Node 1 of the LL\n",
    "self.tail: Represent Node 2 of the LL\n",
    "- (If the list is empty, both head and tail are None)\n",
    "list_length(): Counts the number of nodes in the LL\n",
    "output_list(): Outputs the node values\n",
    "add_list_item(): Appends (add at the end) the end of list with a new node\n",
    "unordered_search(): search the list for nodes with a specific value\n",
    "remove_list_item_by_id(): remove the node according to the node ID."
   ]
  },
  {
   "cell_type": "code",
   "execution_count": 59,
   "metadata": {},
   "outputs": [
    {
     "name": "stdout",
     "output_type": "stream",
     "text": [
      "track length:  0\n",
      "track length:  1\n",
      "track length:  2\n",
      "track length:  3\n",
      "track length:  4\n"
     ]
    },
    {
     "data": {
      "text/plain": [
       "[1, 4]"
      ]
     },
     "execution_count": 59,
     "metadata": {},
     "output_type": "execute_result"
    }
   ],
   "source": [
    "class SingleLinkedList:\n",
    "    def __init__(self): # the node class had a constructor with a data argument because we were creating a node with the desired data.\n",
    "        self.head = None\n",
    "        self.tail = None\n",
    "        return\n",
    "    \n",
    "    def add_list_item(self,item): # this item is to be added to the LL. \n",
    "# The LL can be empty and the item can also be just the data of the incoming node. That is, it is up to us to create\n",
    "# a node datatype while appending to LL.\n",
    "        if not isinstance(item, ListNode): # ListNode is a datatype, just like int. Made up, tho. \n",
    "            item = ListNode(item) # casting item to a 'node' object. \n",
    "        if self.head == None:\n",
    "                #no need to check this: since if head is None, tail will be None...if self.tail = None # means the LL is empty \n",
    "            self.head = item \n",
    "            self.tail = item \n",
    "        else: \n",
    "            # connect it first and then transfer the title of 'tail' to the new item. \n",
    "            self.tail.next = item \n",
    "            self.tail = item # could just write this outside both ifs...\n",
    "        return\n",
    "    \n",
    "    def list_length(self): # to count the number of nodes, so just self as arg. \n",
    "        count = 0\n",
    "        current_node = self.head\n",
    "        \n",
    "        while current_node is not None: #till the loop runs for tail.\n",
    "            count = count + 1\n",
    "            current_node = current_node.next\n",
    "        return count\n",
    "    \n",
    "    def output_list(self): # gets the LL instance and outputs the node values. \n",
    "        current_node = self.head\n",
    "        results = []\n",
    "        while current_node is not None:\n",
    "            #print(current_node.data)\n",
    "            results.append(current_node.data)\n",
    "            current_node = current_node.next\n",
    "        return results\n",
    "    \n",
    "    def unordered_search(self, value): # searching through the list\n",
    "        current_node = self.head\n",
    "        node_id = 1\n",
    "        results = []\n",
    "        while current_node is not None: \n",
    "            if current_node.data==value:\n",
    "                results.append(node_id)\n",
    "            node_id = node_id + 1\n",
    "            current_node = current_node.next\n",
    "        return results\n",
    "    \n",
    "    def remove_list_item_by_id(self, item_id): # again, every function will have a self parameter\n",
    "        current_node = self.head\n",
    "        current_id = 1\n",
    "        previous_node = None\n",
    "        \n",
    "        while current_node is not None: \n",
    "            if current_id==item_id:\n",
    "                if previous_node is not None:\n",
    "                    previous_node.next = current_node.next\n",
    "                else: # if this is the first node..\n",
    "                    self.head = current_node.next\n",
    "                    return\n",
    "                    \n",
    "            previous_node = current_node    \n",
    "            current_id = current_id + 1\n",
    "            current_node = current_node.next\n",
    "        return\n",
    "    \n",
    "    def iterative_reverse_linked_lists(self):\n",
    "        current_node = self.head\n",
    "        previous_node = None\n",
    "        next_node = current_node.next\n",
    "        while current_node is not None: \n",
    "            current_node.next = previous_node\n",
    "            previous_node = current_node\n",
    "            current_node = next_node\n",
    "            if next_node is not None:\n",
    "                next_node = next_node.next\n",
    "        self.head = previous_node\n",
    "        return\n",
    "    \n",
    "    def recursive_reverse_linked_lists(self,node):\n",
    "        # Base case\n",
    "        if node.next is None:\n",
    "            self.head=node\n",
    "            return\n",
    "        self.recursive_reverse_linked_lists(node.next)\n",
    "        node.next.next = node\n",
    "        node.next = None\n",
    "\n",
    "        \n",
    "# Create 4 single nodes first.\n",
    "node1 = ListNode(15)\n",
    "node2 = ListNode(8.2)\n",
    "item3 = \"Berlin\"\n",
    "node4 = ListNode(15)\n",
    "\n",
    "track = SingleLinkedList() # init of LL\n",
    "print(\"track length: \", track.list_length()) #because list_length() is a member function of track object of LL class.\n",
    "\n",
    "for current_item in [node1,node2,item3,node4]:\n",
    "    track.add_list_item(current_item)\n",
    "    print(\"track length: \", track.list_length())\n",
    "    track.output_list()\n",
    "        \n",
    "track.unordered_search(15)  \n",
    "#track.remove_list_item_by_id(3) # Berlin is gone..\n",
    "#print(\"track length: \", track.list_length())\n",
    "#track.output_list()\n",
    "#track.iterative_reverse_linked_lists()\n",
    "#print(\"List: \")\n",
    "#track.output_list()\n",
    "#track.output_list()\n",
    "#print(track.head)\n",
    "#track.recursive_reverse_linked_lists(track.head)\n",
    "#print(\"After recursive reversal: \")\n",
    "#track.output_list()"
   ]
  },
  {
   "cell_type": "markdown",
   "metadata": {},
   "source": [
    "Note about Complexities: (In this case, it has to go through the elements of the LL to do the ops.)\n",
    "- Insertion O(1), because we have a tail pointer. \n",
    "- Search O(n)\n",
    "- Deletion O(n), since this goes by finding node_id"
   ]
  },
  {
   "cell_type": "code",
   "execution_count": null,
   "metadata": {
    "collapsed": true
   },
   "outputs": [],
   "source": [
    "# Remove duplicates from the LL.\n",
    "track = SingleLinkedList()\n",
    "track.add_list_item(ListNode('a'))\n",
    "track.add_list_item(ListNode('d'))\n",
    "track.add_list_item(ListNode('d'))\n",
    "track.add_list_item(ListNode('d'))\n",
    "track.add_list_item(ListNode('d'))\n",
    "track.add_list_item(ListNode('d'))\n",
    "index=[track.unordered_search(i) for i in track.output_list()]\n",
    "print(index)\n",
    "# The following takes O(N^3)\n",
    "for i in index:\n",
    "    for j in i[:0:-1]: #get everything from i in reverse, except the first element...hacky\n",
    "        track.remove_list_item_by_id(j)\n",
    "track.output_list()\n",
    "\n",
    "# This algo is not good. Need to optimize. "
   ]
  }
 ],
 "metadata": {
  "kernelspec": {
   "display_name": "Python 3",
   "language": "python",
   "name": "python3"
  },
  "language_info": {
   "codemirror_mode": {
    "name": "ipython",
    "version": 3
   },
   "file_extension": ".py",
   "mimetype": "text/x-python",
   "name": "python",
   "nbconvert_exporter": "python",
   "pygments_lexer": "ipython3",
   "version": "3.6.3"
  }
 },
 "nbformat": 4,
 "nbformat_minor": 2
}
