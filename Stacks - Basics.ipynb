{
 "cells": [
  {
   "cell_type": "markdown",
   "metadata": {
    "collapsed": true
   },
   "source": [
    "References: https://medium.com/@kojinoshiba/data-structures-in-python-series-2-stacks-queues-8e2a1703d67b and\n",
    "http://interactivepython.org/runestone/static/pythonds/BasicDS/ImplementingaStackinPython.html and\n",
    "https://dbader.org/blog/stacks-in-python\n",
    "\n",
    "Why are stacks useful?\n",
    "- Stack is a DS with 2 main ops: pop and push \n",
    "- Push appends to end of stack; Pop takes out final element of list.\n",
    "- LIFO/ FILO \n",
    "Egs: \n",
    "- Tracing back to previous elements/ ops (undo in text editor, back ops in browsers)\n",
    "- Keep track of recursions in the code\n",
    "- Check if expression/ operation is valid (parabthesis checking...)\n",
    "\n",
    "***\n",
    "Further, to implement a stack, which is a collection of elements, it makes sense to utilize the power and simplicity of the primitive collections provided by Python. We will use a list. (Power of abstraction in Python). \n",
    "***\n",
    "\n",
    "Unlike lists or arrays, stacks typically don’t allow for random access to the objects they contain. \n",
    "\n",
    "Note: Always keep track of the Top. This tells us the status of the stack.\n",
    "\n",
    "Questions: DFS on a tree/ graph.\n",
    "\n",
    "Python’s lists are implemented as dynamic arrays internally which means they occasional need to resize the storage space for elements stored in them when elements are added or removed. The list over-allocates its backing storage so that not every push or pop requires resizing and you get an amortized O(1) time complexity for these operations.\n",
    " \n",
    "We could have written the stack by pushing to the stack beginning and popping from the beginning -- O(N) for insetion and popping from the beginning -- hence not preferred\n",
    "The above method is preferred because pushing and popping from the end -- amortized O(1)\n",
    "This ability to change the physical implementation of an abstract data type while maintaining the logical characteristics is an example of abstraction at work."
   ]
  },
  {
   "cell_type": "code",
   "execution_count": 22,
   "metadata": {
    "collapsed": true
   },
   "outputs": [],
   "source": [
    "class Stacks:\n",
    "    def __init__(self):\n",
    "        self.stack = []\n",
    "        \n",
    "    def pop(self):\n",
    "        if self.is_empty():\n",
    "            return None\n",
    "        else:\n",
    "            return self.stack.pop()\n",
    "        \n",
    "    def push(self, value):\n",
    "        return self.stack.append(value)\n",
    "    \n",
    "    def peek(self):\n",
    "        if self.is_empty():\n",
    "            return None\n",
    "        else:\n",
    "            return self.stack[-1]\n",
    "        \n",
    "    def size(self):\n",
    "        return (len(self.stack))\n",
    "    \n",
    "    def is_empty(self):\n",
    "        return self.size()==0"
   ]
  },
  {
   "cell_type": "code",
   "execution_count": 24,
   "metadata": {},
   "outputs": [
    {
     "data": {
      "text/plain": [
       "10"
      ]
     },
     "execution_count": 24,
     "metadata": {},
     "output_type": "execute_result"
    }
   ],
   "source": [
    "st = Stacks()\n",
    "st.push(5)\n",
    "st.push(10)\n",
    "st.push(15)\n",
    "st.pop()\n",
    "st.peek()"
   ]
  },
  {
   "cell_type": "code",
   "execution_count": null,
   "metadata": {
    "collapsed": true
   },
   "outputs": [],
   "source": []
  }
 ],
 "metadata": {
  "kernelspec": {
   "display_name": "Python 3",
   "language": "python",
   "name": "python3"
  },
  "language_info": {
   "codemirror_mode": {
    "name": "ipython",
    "version": 3
   },
   "file_extension": ".py",
   "mimetype": "text/x-python",
   "name": "python",
   "nbconvert_exporter": "python",
   "pygments_lexer": "ipython3",
   "version": "3.6.3"
  }
 },
 "nbformat": 4,
 "nbformat_minor": 2
}
